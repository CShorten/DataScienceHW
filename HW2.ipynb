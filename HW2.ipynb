{
  "nbformat": 4,
  "nbformat_minor": 0,
  "metadata": {
    "colab": {
      "name": "HW2.ipynb",
      "provenance": [],
      "collapsed_sections": [],
      "authorship_tag": "ABX9TyMbX5Ka1u4evBfLr1J9JYtj",
      "include_colab_link": true
    },
    "kernelspec": {
      "name": "python3",
      "display_name": "Python 3"
    }
  },
  "cells": [
    {
      "cell_type": "markdown",
      "metadata": {
        "id": "view-in-github",
        "colab_type": "text"
      },
      "source": [
        "<a href=\"https://colab.research.google.com/github/CShorten/DataScienceHW/blob/master/HW2.ipynb\" target=\"_parent\"><img src=\"https://colab.research.google.com/assets/colab-badge.svg\" alt=\"Open In Colab\"/></a>"
      ]
    },
    {
      "cell_type": "markdown",
      "metadata": {
        "id": "o3qNMZuCQhjR"
      },
      "source": [
        "# Load Drive upload File"
      ]
    },
    {
      "cell_type": "code",
      "metadata": {
        "id": "ATmCCVJgPmCB",
        "outputId": "b80fcab1-31e6-44e9-b7c3-b7e42cace373",
        "colab": {
          "base_uri": "https://localhost:8080/",
          "height": 70
        }
      },
      "source": [
        "import numpy as np\n",
        "import pandas as pd\n",
        "from pandas import DataFrame, Series\n",
        "import matplotlib.pyplot as plt\n",
        "from scipy.stats import pearsonr\n",
        "from __future__ import division\n",
        "import seaborn as sns\n",
        "sns.set(style='ticks', palette='Set2')\n",
        "%matplotlib inline"
      ],
      "execution_count": null,
      "outputs": [
        {
          "output_type": "stream",
          "text": [
            "/usr/local/lib/python3.6/dist-packages/statsmodels/tools/_testing.py:19: FutureWarning: pandas.util.testing is deprecated. Use the functions in the public API at pandas.testing instead.\n",
            "  import pandas.util.testing as tm\n"
          ],
          "name": "stderr"
        }
      ]
    },
    {
      "cell_type": "code",
      "metadata": {
        "id": "Dw6mRxpzQBdh",
        "outputId": "db00e798-eb94-4119-e945-0784823f256c",
        "colab": {
          "base_uri": "https://localhost:8080/",
          "height": 33
        }
      },
      "source": [
        "from google.colab import drive\n",
        "drive.mount('/content/drive')"
      ],
      "execution_count": null,
      "outputs": [
        {
          "output_type": "stream",
          "text": [
            "Mounted at /content/drive\n"
          ],
          "name": "stdout"
        }
      ]
    },
    {
      "cell_type": "code",
      "metadata": {
        "id": "A40S55NiQGce"
      },
      "source": [
        "salaries = pd.read_csv('./drive/My Drive/salaries.csv')"
      ],
      "execution_count": null,
      "outputs": []
    },
    {
      "cell_type": "code",
      "metadata": {
        "id": "M1gGw4O5QcPm",
        "outputId": "babf464a-2d24-4e72-b65a-9b82f64cc0d1",
        "colab": {
          "base_uri": "https://localhost:8080/",
          "height": 191
        }
      },
      "source": [
        "salaries.head()"
      ],
      "execution_count": null,
      "outputs": [
        {
          "output_type": "execute_result",
          "data": {
            "text/html": [
              "<div>\n",
              "<style scoped>\n",
              "    .dataframe tbody tr th:only-of-type {\n",
              "        vertical-align: middle;\n",
              "    }\n",
              "\n",
              "    .dataframe tbody tr th {\n",
              "        vertical-align: top;\n",
              "    }\n",
              "\n",
              "    .dataframe thead th {\n",
              "        text-align: right;\n",
              "    }\n",
              "</style>\n",
              "<table border=\"1\" class=\"dataframe\">\n",
              "  <thead>\n",
              "    <tr style=\"text-align: right;\">\n",
              "      <th></th>\n",
              "      <th>earn</th>\n",
              "      <th>height</th>\n",
              "      <th>sex</th>\n",
              "      <th>ed</th>\n",
              "      <th>age</th>\n",
              "      <th>race</th>\n",
              "    </tr>\n",
              "  </thead>\n",
              "  <tbody>\n",
              "    <tr>\n",
              "      <th>0</th>\n",
              "      <td>50000.0</td>\n",
              "      <td>74.424439</td>\n",
              "      <td>male</td>\n",
              "      <td>16</td>\n",
              "      <td>45</td>\n",
              "      <td>white</td>\n",
              "    </tr>\n",
              "    <tr>\n",
              "      <th>1</th>\n",
              "      <td>60000.0</td>\n",
              "      <td>65.537543</td>\n",
              "      <td>female</td>\n",
              "      <td>16</td>\n",
              "      <td>58</td>\n",
              "      <td>white</td>\n",
              "    </tr>\n",
              "    <tr>\n",
              "      <th>2</th>\n",
              "      <td>30000.0</td>\n",
              "      <td>63.629198</td>\n",
              "      <td>female</td>\n",
              "      <td>16</td>\n",
              "      <td>29</td>\n",
              "      <td>white</td>\n",
              "    </tr>\n",
              "    <tr>\n",
              "      <th>3</th>\n",
              "      <td>50000.0</td>\n",
              "      <td>63.108562</td>\n",
              "      <td>female</td>\n",
              "      <td>16</td>\n",
              "      <td>91</td>\n",
              "      <td>other</td>\n",
              "    </tr>\n",
              "    <tr>\n",
              "      <th>4</th>\n",
              "      <td>51000.0</td>\n",
              "      <td>63.402484</td>\n",
              "      <td>female</td>\n",
              "      <td>17</td>\n",
              "      <td>39</td>\n",
              "      <td>white</td>\n",
              "    </tr>\n",
              "  </tbody>\n",
              "</table>\n",
              "</div>"
            ],
            "text/plain": [
              "      earn     height     sex  ed  age   race\n",
              "0  50000.0  74.424439    male  16   45  white\n",
              "1  60000.0  65.537543  female  16   58  white\n",
              "2  30000.0  63.629198  female  16   29  white\n",
              "3  50000.0  63.108562  female  16   91  other\n",
              "4  51000.0  63.402484  female  17   39  white"
            ]
          },
          "metadata": {
            "tags": []
          },
          "execution_count": 7
        }
      ]
    },
    {
      "cell_type": "markdown",
      "metadata": {
        "id": "vmEWwogoQs_H"
      },
      "source": [
        "# Part 1 - Salaries"
      ]
    },
    {
      "cell_type": "code",
      "metadata": {
        "id": "_2gc8TqTQebD",
        "outputId": "da603948-4b8a-4e24-a78f-136e81deb375",
        "colab": {
          "base_uri": "https://localhost:8080/",
          "height": 147
        }
      },
      "source": [
        "print(salaries.shape)\n",
        "print(salaries.count())"
      ],
      "execution_count": null,
      "outputs": [
        {
          "output_type": "stream",
          "text": [
            "(1192, 6)\n",
            "earn      1192\n",
            "height    1192\n",
            "sex       1192\n",
            "ed        1192\n",
            "age       1192\n",
            "race      1192\n",
            "dtype: int64\n"
          ],
          "name": "stdout"
        }
      ]
    },
    {
      "cell_type": "markdown",
      "metadata": {
        "id": "TmN-I5e4Q5wV"
      },
      "source": [
        "# 1.1 Meaning of Each Variable"
      ]
    },
    {
      "cell_type": "markdown",
      "metadata": {
        "id": "rlrqelJORYF0"
      },
      "source": [
        "I think the best way to get a sense of each variable is to plot the distribution of values. From this we learn that:\n",
        "<ul>\n",
        "<li> <b>Earn-</b> Salaries follows a power-law distribution with nearly all people making between 0 - 50K, but a few making 75K and 100K+ </li>\n",
        "<li> <b>Height-</b> Height is right-skewed normally distributed around 66 inches </li>\n",
        "<li> <b>Sex-</b> We have more Females than Males </li>\n",
        "<li> <b>Ed- </b> Education has an interesting distribution, it looks like somewhat of a power-law if you start the graph at 12 years of education </li>\n",
        "<li> <b>Age-</b> Age kind of looks like a power-law distribution with most people between 20-30, but some as old as 90 </li>\n",
        "<li> <b>Race- </b> Most people are White </li>"
      ]
    },
    {
      "cell_type": "code",
      "metadata": {
        "id": "NzFLLzIKQw0C",
        "outputId": "180b40db-cd5e-46d8-e3ea-6782fbcc6197",
        "colab": {
          "base_uri": "https://localhost:8080/",
          "height": 267
        }
      },
      "source": [
        "plt.hist(salaries.earn)\n",
        "plt.show()"
      ],
      "execution_count": null,
      "outputs": [
        {
          "output_type": "display_data",
          "data": {
            "image/png": "[encoded data removed]",
            "text/plain": [
              "<Figure size 432x288 with 1 Axes>"
            ]
          },
          "metadata": {
            "tags": [],
            "needs_background": "light"
          }
        }
      ]
    },
    {
      "cell_type": "code",
      "metadata": {
        "id": "zvSZ4yj6Q-yP",
        "outputId": "019228d6-1953-4efc-e6be-63d743313acf",
        "colab": {
          "base_uri": "https://localhost:8080/",
          "height": 267
        }
      },
      "source": [
        "plt.hist(salaries.height)\n",
        "plt.show()"
      ],
      "execution_count": null,
      "outputs": [
        {
          "output_type": "display_data",
          "data": {
            "image/png": "[encoded data removed]",
            "text/plain": [
              "<Figure size 432x288 with 1 Axes>"
            ]
          },
          "metadata": {
            "tags": [],
            "needs_background": "light"
          }
        }
      ]
    },
    {
      "cell_type": "code",
      "metadata": {
        "id": "zxztlJ4bRHS2",
        "outputId": "a11bda20-dda1-4d0c-b80c-fd17e2fb3b96",
        "colab": {
          "base_uri": "https://localhost:8080/",
          "height": 267
        }
      },
      "source": [
        "plt.hist(salaries.sex)\n",
        "plt.show()"
      ],
      "execution_count": null,
      "outputs": [
        {
          "output_type": "display_data",
          "data": {
            "image/png": "[encoded data removed]",
            "text/plain": [
              "<Figure size 432x288 with 1 Axes>"
            ]
          },
          "metadata": {
            "tags": [],
            "needs_background": "light"
          }
        }
      ]
    },
    {
      "cell_type": "code",
      "metadata": {
        "id": "HSvoq9O2RJde",
        "outputId": "9ea85233-2984-4791-a9b3-6c0ad6887c66",
        "colab": {
          "base_uri": "https://localhost:8080/",
          "height": 267
        }
      },
      "source": [
        "plt.hist(salaries.ed)\n",
        "plt.show()"
      ],
      "execution_count": null,
      "outputs": [
        {
          "output_type": "display_data",
          "data": {
            "image/png": "[encoded data removed]",
            "text/plain": [
              "<Figure size 432x288 with 1 Axes>"
            ]
          },
          "metadata": {
            "tags": [],
            "needs_background": "light"
          }
        }
      ]
    },
    {
      "cell_type": "code",
      "metadata": {
        "id": "U_8XNeX0RLXF",
        "outputId": "8354d170-36f9-4a45-ea87-81f06d0fba97",
        "colab": {
          "base_uri": "https://localhost:8080/",
          "height": 267
        }
      },
      "source": [
        "plt.hist(salaries.age)\n",
        "plt.show()"
      ],
      "execution_count": null,
      "outputs": [
        {
          "output_type": "display_data",
          "data": {
            "image/png": "[encoded data removed]",
            "text/plain": [
              "<Figure size 432x288 with 1 Axes>"
            ]
          },
          "metadata": {
            "tags": [],
            "needs_background": "light"
          }
        }
      ]
    },
    {
      "cell_type": "code",
      "metadata": {
        "id": "0BwiNhQPRNcr",
        "outputId": "c7607a27-23b5-4a88-a68f-fa40d50eb46a",
        "colab": {
          "base_uri": "https://localhost:8080/",
          "height": 267
        }
      },
      "source": [
        "plt.hist(salaries.race)\n",
        "plt.show()"
      ],
      "execution_count": null,
      "outputs": [
        {
          "output_type": "display_data",
          "data": {
            "image/png": "[encoded data removed]",
            "text/plain": [
              "<Figure size 432x288 with 1 Axes>"
            ]
          },
          "metadata": {
            "tags": [],
            "needs_background": "light"
          }
        }
      ]
    },
    {
      "cell_type": "markdown",
      "metadata": {
        "id": "vE3uO7fGSg-w"
      },
      "source": [
        "# Summary Statistics"
      ]
    },
    {
      "cell_type": "code",
      "metadata": {
        "id": "JOFLjjivSjJ0",
        "outputId": "11322e2a-89ef-4fd7-e20a-c2468b1e2c70",
        "colab": {
          "base_uri": "https://localhost:8080/",
          "height": 98
        }
      },
      "source": [
        "salary = np.array(salaries['earn'])\n",
        "print('--- Salary statistics ---')\n",
        "print('Minimum salary (global): ${:6.2f}'.format(np.min(salary)))\n",
        "print('Maximum salary (global): ${:6.2f}'.format(np.max(salary)))\n",
        "print('Average salary (global): ${:6.2f}'.format(np.mean(salary)))\n",
        "print('Median salary (global): ${:6.2f}'.format(np.median(salary)))"
      ],
      "execution_count": null,
      "outputs": [
        {
          "output_type": "stream",
          "text": [
            "--- Salary statistics ---\n",
            "Minimum salary (global): $200.00\n",
            "Maximum salary (global): $200000.00\n",
            "Average salary (global): $23154.77\n",
            "Median salary (global): $20000.00\n"
          ],
          "name": "stdout"
        }
      ]
    },
    {
      "cell_type": "code",
      "metadata": {
        "id": "4SZ3ecUvS4vq",
        "outputId": "ab515bc9-be6c-4cb0-e76e-ad436567531a",
        "colab": {
          "base_uri": "https://localhost:8080/",
          "height": 301
        }
      },
      "source": [
        "plt.hist(salary)\n",
        "plt.title('Salary Distribution')\n",
        "plt.xlabel('Salary')\n",
        "plt.ylabel('Number of Employees')\n",
        "plt.show()"
      ],
      "execution_count": null,
      "outputs": [
        {
          "output_type": "display_data",
          "data": {
            "image/png": "[encoded data removed]",
            "text/plain": [
              "<Figure size 432x288 with 1 Axes>"
            ]
          },
          "metadata": {
            "tags": [],
            "needs_background": "light"
          }
        }
      ]
    },
    {
      "cell_type": "code",
      "metadata": {
        "id": "9BHpW8VfS9kw",
        "outputId": "70ba0c4a-f33c-485e-c210-4695c19111d3",
        "colab": {
          "base_uri": "https://localhost:8080/",
          "height": 301
        }
      },
      "source": [
        "years = np.array(salaries['ed'])\n",
        "plt.title('Salary vs. Education Level')\n",
        "plt.ylabel('Salary')\n",
        "plt.xlabel('Years of Education');\n",
        "plt.scatter(years, salary, alpha=0.5)\n",
        "plt.show()"
      ],
      "execution_count": null,
      "outputs": [
        {
          "output_type": "display_data",
          "data": {
            "image/png": "[encoded data removed]",
            "text/plain": [
              "<Figure size 432x288 with 1 Axes>"
            ]
          },
          "metadata": {
            "tags": [],
            "needs_background": "light"
          }
        }
      ]
    },
    {
      "cell_type": "code",
      "metadata": {
        "id": "qQMaI0XNTLqK",
        "outputId": "a3f6c891-7f4c-44ab-a2c6-f66766862930",
        "colab": {
          "base_uri": "https://localhost:8080/",
          "height": 33
        }
      },
      "source": [
        "corr, _ = pearsonr(salary, years)\n",
        "print('Correlation coefficient: ', corr)"
      ],
      "execution_count": null,
      "outputs": [
        {
          "output_type": "stream",
          "text": [
            "Correlation coefficient:  0.3399765246894847\n"
          ],
          "name": "stdout"
        }
      ]
    },
    {
      "cell_type": "markdown",
      "metadata": {
        "id": "367c_AScTXEW"
      },
      "source": [
        "# 1.2 - Exercise"
      ]
    },
    {
      "cell_type": "markdown",
      "metadata": {
        "id": "vXePtodkTbkv"
      },
      "source": [
        "Display total headcount and # of male and female employees"
      ]
    },
    {
      "cell_type": "code",
      "metadata": {
        "id": "wcF5e_oWTRgC",
        "outputId": "12c50ecb-8992-45fb-c65f-a14c6d8417fb",
        "colab": {
          "base_uri": "https://localhost:8080/",
          "height": 33
        }
      },
      "source": [
        "len(df)"
      ],
      "execution_count": null,
      "outputs": [
        {
          "output_type": "execute_result",
          "data": {
            "text/plain": [
              "1192"
            ]
          },
          "metadata": {
            "tags": []
          },
          "execution_count": 30
        }
      ]
    },
    {
      "cell_type": "code",
      "metadata": {
        "id": "AlKoai_XT7yn",
        "outputId": "7ea66f59-348e-4dfb-f453-20fc327103de",
        "colab": {
          "base_uri": "https://localhost:8080/",
          "height": 66
        }
      },
      "source": [
        "df.sex.value_counts()"
      ],
      "execution_count": null,
      "outputs": [
        {
          "output_type": "execute_result",
          "data": {
            "text/plain": [
              "female    687\n",
              "male      505\n",
              "Name: sex, dtype: int64"
            ]
          },
          "metadata": {
            "tags": []
          },
          "execution_count": 34
        }
      ]
    },
    {
      "cell_type": "code",
      "metadata": {
        "id": "8xTmybrCThhM"
      },
      "source": [
        "males = df['sex'] == 'male'\n",
        "females = df['sex'] == 'female'"
      ],
      "execution_count": null,
      "outputs": []
    },
    {
      "cell_type": "code",
      "metadata": {
        "id": "zrdjRPCtToFy",
        "outputId": "81484c0f-7b9f-45e8-d844-97ba5f605f4a",
        "colab": {
          "base_uri": "https://localhost:8080/",
          "height": 33
        }
      },
      "source": [
        "len(df[males])"
      ],
      "execution_count": null,
      "outputs": [
        {
          "output_type": "execute_result",
          "data": {
            "text/plain": [
              "505"
            ]
          },
          "metadata": {
            "tags": []
          },
          "execution_count": 39
        }
      ]
    },
    {
      "cell_type": "code",
      "metadata": {
        "id": "2Y7YaexIT6SS",
        "outputId": "5dff7d12-8071-468f-e5e4-00298d716b1b",
        "colab": {
          "base_uri": "https://localhost:8080/",
          "height": 33
        }
      },
      "source": [
        "len(df[females])"
      ],
      "execution_count": null,
      "outputs": [
        {
          "output_type": "execute_result",
          "data": {
            "text/plain": [
              "687"
            ]
          },
          "metadata": {
            "tags": []
          },
          "execution_count": 40
        }
      ]
    },
    {
      "cell_type": "markdown",
      "metadata": {
        "id": "ms6a7bvNURqo"
      },
      "source": [
        "Min, Max, Average, Median Salary per Gender"
      ]
    },
    {
      "cell_type": "code",
      "metadata": {
        "id": "o4ykSHogUOT9",
        "outputId": "337b71fe-e98b-48af-e9fb-d870d10a6cb0",
        "colab": {
          "base_uri": "https://localhost:8080/",
          "height": 98
        }
      },
      "source": [
        "male_salary = np.array(df[males].earn)\n",
        "print(\"--- Salary statistics ---\")\n",
        "print(\"Minimum salary (global): ${:6.2f}\".format(np.min(male_salary)))\n",
        "print(\"Maximum salary (global): ${:6.2f}\".format(np.max(male_salary)))\n",
        "print(\"Average salary (global): ${:6.2f}\".format(np.mean(male_salary)))\n",
        "print(\"Median  salary (global): ${:6.2f}\".format(np.median(male_salary)))"
      ],
      "execution_count": null,
      "outputs": [
        {
          "output_type": "stream",
          "text": [
            "--- Salary statistics ---\n",
            "Minimum salary (global): $1000.00\n",
            "Maximum salary (global): $200000.00\n",
            "Average salary (global): $29786.13\n",
            "Median  salary (global): $25000.00\n"
          ],
          "name": "stdout"
        }
      ]
    },
    {
      "cell_type": "code",
      "metadata": {
        "id": "QrqKsqghUX4S",
        "outputId": "76d7861a-2b7e-4de2-edd1-cf6e9ee623eb",
        "colab": {
          "base_uri": "https://localhost:8080/",
          "height": 98
        }
      },
      "source": [
        "female_salary = np.array(df[females].earn)\n",
        "print(\"--- Salary statistics ---\")\n",
        "print(\"Minimum salary (global): ${:6.2f}\".format(np.min(female_salary)))\n",
        "print(\"Maximum salary (global): ${:6.2f}\".format(np.max(female_salary)))\n",
        "print(\"Average salary (global): ${:6.2f}\".format(np.mean(female_salary)))\n",
        "print(\"Median  salary (global): ${:6.2f}\".format(np.median(female_salary)))"
      ],
      "execution_count": null,
      "outputs": [
        {
          "output_type": "stream",
          "text": [
            "--- Salary statistics ---\n",
            "Minimum salary (global): $200.00\n",
            "Maximum salary (global): $123000.00\n",
            "Average salary (global): $18280.20\n",
            "Median  salary (global): $15000.00\n"
          ],
          "name": "stdout"
        }
      ]
    },
    {
      "cell_type": "markdown",
      "metadata": {
        "id": "HUSJWkOOU1rL"
      },
      "source": [
        "Highlight Gender Inequality associated with the Salaries in the Company"
      ]
    },
    {
      "cell_type": "code",
      "metadata": {
        "id": "PAhoMlnZUdoB"
      },
      "source": [
        "earn_less_than_25000 = df['earn'] < 25000"
      ],
      "execution_count": null,
      "outputs": []
    },
    {
      "cell_type": "code",
      "metadata": {
        "id": "NEnK4npzVfLW",
        "outputId": "ab9f51bb-5907-4d1c-f8ef-5865a6159632",
        "colab": {
          "base_uri": "https://localhost:8080/",
          "height": 66
        }
      },
      "source": [
        "df.sex.value_counts()"
      ],
      "execution_count": null,
      "outputs": [
        {
          "output_type": "execute_result",
          "data": {
            "text/plain": [
              "female    687\n",
              "male      505\n",
              "Name: sex, dtype: int64"
            ]
          },
          "metadata": {
            "tags": []
          },
          "execution_count": 53
        }
      ]
    },
    {
      "cell_type": "code",
      "metadata": {
        "id": "0LAWeDLlVVCa",
        "outputId": "d77e6541-0c1e-4cca-8239-5091898c8ba5",
        "colab": {
          "base_uri": "https://localhost:8080/",
          "height": 267
        }
      },
      "source": [
        "plt.hist(df[earn_less_than_25000].sex)\n",
        "plt.show()"
      ],
      "execution_count": null,
      "outputs": [
        {
          "output_type": "display_data",
          "data": {
            "image/png": "[encoded data removed]",
            "text/plain": [
              "<Figure size 432x288 with 1 Axes>"
            ]
          },
          "metadata": {
            "tags": [],
            "needs_background": "light"
          }
        }
      ]
    },
    {
      "cell_type": "code",
      "metadata": {
        "id": "-QxeKbv9VZPZ",
        "outputId": "bab7f0cf-36b0-434c-a060-d7e94410414f",
        "colab": {
          "base_uri": "https://localhost:8080/",
          "height": 66
        }
      },
      "source": [
        "df[earn_less_than_25000].sex.value_counts()"
      ],
      "execution_count": null,
      "outputs": [
        {
          "output_type": "execute_result",
          "data": {
            "text/plain": [
              "female    512\n",
              "male      228\n",
              "Name: sex, dtype: int64"
            ]
          },
          "metadata": {
            "tags": []
          },
          "execution_count": 55
        }
      ]
    },
    {
      "cell_type": "markdown",
      "metadata": {
        "id": "GHtQXw3BVxfn"
      },
      "source": [
        "# Hypothesis Testing"
      ]
    },
    {
      "cell_type": "markdown",
      "metadata": {
        "id": "RndQzNbqV4EE"
      },
      "source": [
        "<ul>\n",
        "<li> H1: Older employees are paid less (i.e. ageism) </li>\n",
        "<li> H2: Female employees are paid less (i.e. gender bias) </li>\n",
        "<li> H3: Non-whites are paid less (i.e. race bias) </li>\n",
        "</ul>"
      ]
    },
    {
      "cell_type": "markdown",
      "metadata": {
        "id": "fYrg6U9cYgs1"
      },
      "source": [
        "<h2> H1: Older Employees are Paid Less </h2>"
      ]
    },
    {
      "cell_type": "code",
      "metadata": {
        "id": "DPq6dt8BVwbY",
        "outputId": "f9d41fdf-6429-466c-d7d7-c13ecd68fc1d",
        "colab": {
          "base_uri": "https://localhost:8080/",
          "height": 33
        }
      },
      "source": [
        "np_age = np.array(salaries['age'])\n",
        "np_earn = np.array(salaries['earn'])\n",
        "corr, _ = pearsonr(np_age, np_earn)\n",
        "corr"
      ],
      "execution_count": null,
      "outputs": [
        {
          "output_type": "execute_result",
          "data": {
            "text/plain": [
              "0.08100297364190615"
            ]
          },
          "metadata": {
            "tags": []
          },
          "execution_count": 57
        }
      ]
    },
    {
      "cell_type": "markdown",
      "metadata": {
        "id": "av_T8wsBYjGl"
      },
      "source": [
        "<h2> H2: Female Employees are Paid Less </h2>"
      ]
    },
    {
      "cell_type": "code",
      "metadata": {
        "id": "Wnm_4Y4BYXdL",
        "outputId": "6acdc485-1c4b-4e07-8b2f-532111af8674",
        "colab": {
          "base_uri": "https://localhost:8080/",
          "height": 33
        }
      },
      "source": [
        "male = df['sex'] == 'male'\n",
        "np_sex = np.array(male).astype(int)\n",
        "corr, _ = pearsonr(np_sex, np_earn)\n",
        "corr"
      ],
      "execution_count": null,
      "outputs": [
        {
          "output_type": "execute_result",
          "data": {
            "text/plain": [
              "0.2921021854657079"
            ]
          },
          "metadata": {
            "tags": []
          },
          "execution_count": 65
        }
      ]
    },
    {
      "cell_type": "markdown",
      "metadata": {
        "id": "RAHYQ8nnZLNc"
      },
      "source": [
        "<h2> H3: Non-Whites are Paid Less </h2>"
      ]
    },
    {
      "cell_type": "code",
      "metadata": {
        "id": "SpwJMf4TZFaO",
        "outputId": "0564026d-a9a8-4733-dafa-4ce1f2d47cb8",
        "colab": {
          "base_uri": "https://localhost:8080/",
          "height": 33
        }
      },
      "source": [
        "white = df['race'] == 'white'\n",
        "np_race = np.array(white).astype(int)\n",
        "corr, _ = pearsonr(np_race, np_earn)\n",
        "corr"
      ],
      "execution_count": null,
      "outputs": [
        {
          "output_type": "execute_result",
          "data": {
            "text/plain": [
              "0.08252109492218623"
            ]
          },
          "metadata": {
            "tags": []
          },
          "execution_count": 66
        }
      ]
    },
    {
      "cell_type": "markdown",
      "metadata": {
        "id": "aXmZVee2ZZcf"
      },
      "source": [
        "# Part 2 - Fuel Consumption"
      ]
    },
    {
      "cell_type": "code",
      "metadata": {
        "id": "lZobC62vZaWz",
        "outputId": "1bb25931-3876-4366-cfe0-4935b8b8ac74",
        "colab": {
          "base_uri": "https://localhost:8080/",
          "height": 33
        }
      },
      "source": [
        "import pandas as pd\n",
        "data = pd.read_csv(\"http://archive.ics.uci.edu/ml/machine-learning-databases/auto-mpg/auto-mpg.data-original\",\n",
        "                   delim_whitespace = True, header=None,\n",
        "                   names = ['mpg', 'cylinders', 'displacement', 'horsepower', 'weight', 'acceleration',\n",
        "                            'model', 'origin', 'car_name'])\n",
        "print(data.shape)"
      ],
      "execution_count": null,
      "outputs": [
        {
          "output_type": "stream",
          "text": [
            "(406, 9)\n"
          ],
          "name": "stdout"
        }
      ]
    },
    {
      "cell_type": "code",
      "metadata": {
        "id": "9jnjqPnqZidH",
        "outputId": "d2713b9e-bd3b-4498-9bf8-7763fc38ba5e",
        "colab": {
          "base_uri": "https://localhost:8080/",
          "height": 308
        }
      },
      "source": [
        "data.dropna(inplace=True)\n",
        "data.head()"
      ],
      "execution_count": null,
      "outputs": [
        {
          "output_type": "execute_result",
          "data": {
            "text/html": [
              "<div>\n",
              "<style scoped>\n",
              "    .dataframe tbody tr th:only-of-type {\n",
              "        vertical-align: middle;\n",
              "    }\n",
              "\n",
              "    .dataframe tbody tr th {\n",
              "        vertical-align: top;\n",
              "    }\n",
              "\n",
              "    .dataframe thead th {\n",
              "        text-align: right;\n",
              "    }\n",
              "</style>\n",
              "<table border=\"1\" class=\"dataframe\">\n",
              "  <thead>\n",
              "    <tr style=\"text-align: right;\">\n",
              "      <th></th>\n",
              "      <th>mpg</th>\n",
              "      <th>cylinders</th>\n",
              "      <th>displacement</th>\n",
              "      <th>horsepower</th>\n",
              "      <th>weight</th>\n",
              "      <th>acceleration</th>\n",
              "      <th>model</th>\n",
              "      <th>origin</th>\n",
              "      <th>car_name</th>\n",
              "    </tr>\n",
              "  </thead>\n",
              "  <tbody>\n",
              "    <tr>\n",
              "      <th>0</th>\n",
              "      <td>18.0</td>\n",
              "      <td>8.0</td>\n",
              "      <td>307.0</td>\n",
              "      <td>130.0</td>\n",
              "      <td>3504.0</td>\n",
              "      <td>12.0</td>\n",
              "      <td>70.0</td>\n",
              "      <td>1.0</td>\n",
              "      <td>chevrolet chevelle malibu</td>\n",
              "    </tr>\n",
              "    <tr>\n",
              "      <th>1</th>\n",
              "      <td>15.0</td>\n",
              "      <td>8.0</td>\n",
              "      <td>350.0</td>\n",
              "      <td>165.0</td>\n",
              "      <td>3693.0</td>\n",
              "      <td>11.5</td>\n",
              "      <td>70.0</td>\n",
              "      <td>1.0</td>\n",
              "      <td>buick skylark 320</td>\n",
              "    </tr>\n",
              "    <tr>\n",
              "      <th>2</th>\n",
              "      <td>18.0</td>\n",
              "      <td>8.0</td>\n",
              "      <td>318.0</td>\n",
              "      <td>150.0</td>\n",
              "      <td>3436.0</td>\n",
              "      <td>11.0</td>\n",
              "      <td>70.0</td>\n",
              "      <td>1.0</td>\n",
              "      <td>plymouth satellite</td>\n",
              "    </tr>\n",
              "    <tr>\n",
              "      <th>3</th>\n",
              "      <td>16.0</td>\n",
              "      <td>8.0</td>\n",
              "      <td>304.0</td>\n",
              "      <td>150.0</td>\n",
              "      <td>3433.0</td>\n",
              "      <td>12.0</td>\n",
              "      <td>70.0</td>\n",
              "      <td>1.0</td>\n",
              "      <td>amc rebel sst</td>\n",
              "    </tr>\n",
              "    <tr>\n",
              "      <th>4</th>\n",
              "      <td>17.0</td>\n",
              "      <td>8.0</td>\n",
              "      <td>302.0</td>\n",
              "      <td>140.0</td>\n",
              "      <td>3449.0</td>\n",
              "      <td>10.5</td>\n",
              "      <td>70.0</td>\n",
              "      <td>1.0</td>\n",
              "      <td>ford torino</td>\n",
              "    </tr>\n",
              "  </tbody>\n",
              "</table>\n",
              "</div>"
            ],
            "text/plain": [
              "    mpg  cylinders  displacement  ...  model  origin                   car_name\n",
              "0  18.0        8.0         307.0  ...   70.0     1.0  chevrolet chevelle malibu\n",
              "1  15.0        8.0         350.0  ...   70.0     1.0          buick skylark 320\n",
              "2  18.0        8.0         318.0  ...   70.0     1.0         plymouth satellite\n",
              "3  16.0        8.0         304.0  ...   70.0     1.0              amc rebel sst\n",
              "4  17.0        8.0         302.0  ...   70.0     1.0                ford torino\n",
              "\n",
              "[5 rows x 9 columns]"
            ]
          },
          "metadata": {
            "tags": []
          },
          "execution_count": 60
        }
      ]
    },
    {
      "cell_type": "markdown",
      "metadata": {
        "id": "sr9B9Ct5Zm7D"
      },
      "source": [
        "# 2.1 Exercises"
      ]
    },
    {
      "cell_type": "markdown",
      "metadata": {
        "id": "JzBbxXIbZpIT"
      },
      "source": [
        "Number of 3- and 5- cylinder vehicles in the dataset, count, and discard these rows"
      ]
    },
    {
      "cell_type": "code",
      "metadata": {
        "id": "PVDbWp6PZlN0",
        "outputId": "110571b0-91d4-4b64-a124-3e3d266bdbb6",
        "colab": {
          "base_uri": "https://localhost:8080/",
          "height": 115
        }
      },
      "source": [
        "data['cylinders'].value_counts()"
      ],
      "execution_count": null,
      "outputs": [
        {
          "output_type": "execute_result",
          "data": {
            "text/plain": [
              "4.0    199\n",
              "8.0    103\n",
              "6.0     83\n",
              "3.0      4\n",
              "5.0      3\n",
              "Name: cylinders, dtype: int64"
            ]
          },
          "metadata": {
            "tags": []
          },
          "execution_count": 6
        }
      ]
    },
    {
      "cell_type": "markdown",
      "metadata": {
        "id": "Ji3yOIfRZxjl"
      },
      "source": [
        "Compute and Display min, max, average fuel consumption for 4-, 6-, and 8- cylinder vehicles"
      ]
    },
    {
      "cell_type": "code",
      "metadata": {
        "id": "IxdbEUXjZvld",
        "outputId": "671fe235-0b4d-4798-95c6-65a84e818dd5",
        "colab": {
          "base_uri": "https://localhost:8080/",
          "height": 33
        }
      },
      "source": [
        "cylinder_mask = data.loc[(data['cylinders']==3.0) | (data['cylinders']==5.0)]\n",
        "print(len(cylinder_mask))"
      ],
      "execution_count": null,
      "outputs": [
        {
          "output_type": "stream",
          "text": [
            "7\n"
          ],
          "name": "stdout"
        }
      ]
    },
    {
      "cell_type": "markdown",
      "metadata": {
        "id": "M8TPdU8wsE6I"
      },
      "source": [
        "Min, Max, and Average Fuel Consumption for 4-, 6-, and 8-cylinder vehicles"
      ]
    },
    {
      "cell_type": "code",
      "metadata": {
        "id": "7LQHDbZVsItY"
      },
      "source": [
        "cylinder_filter = data.loc[(data['cylinders']==4.0) |\n",
        "                           (data['cylinders']==6.0) |\n",
        "                           (data['cylinders']==8.0)]"
      ],
      "execution_count": null,
      "outputs": []
    },
    {
      "cell_type": "code",
      "metadata": {
        "id": "z8q10boXsRRc",
        "outputId": "39bd4f94-2ee9-4be9-fddd-cbc7eca5f818",
        "colab": {
          "base_uri": "https://localhost:8080/",
          "height": 33
        }
      },
      "source": [
        "cylinder_filter['mpg'].min()"
      ],
      "execution_count": null,
      "outputs": [
        {
          "output_type": "execute_result",
          "data": {
            "text/plain": [
              "9.0"
            ]
          },
          "metadata": {
            "tags": []
          },
          "execution_count": 22
        }
      ]
    },
    {
      "cell_type": "code",
      "metadata": {
        "id": "vhp7gjlgsiPW",
        "outputId": "6820c1c3-10cc-452d-e773-fc5e6f105431",
        "colab": {
          "base_uri": "https://localhost:8080/",
          "height": 33
        }
      },
      "source": [
        "cylinder_filter['mpg'].max()"
      ],
      "execution_count": null,
      "outputs": [
        {
          "output_type": "execute_result",
          "data": {
            "text/plain": [
              "46.6"
            ]
          },
          "metadata": {
            "tags": []
          },
          "execution_count": 23
        }
      ]
    },
    {
      "cell_type": "code",
      "metadata": {
        "id": "Ji5qNsKhsm0O",
        "outputId": "63f70a21-6580-4396-b082-eaf549d44d45",
        "colab": {
          "base_uri": "https://localhost:8080/",
          "height": 33
        }
      },
      "source": [
        "cylinder_filter['mpg'].sum() / len(cylinder_filter)"
      ],
      "execution_count": null,
      "outputs": [
        {
          "output_type": "execute_result",
          "data": {
            "text/plain": [
              "23.445454545454545"
            ]
          },
          "metadata": {
            "tags": []
          },
          "execution_count": 26
        }
      ]
    },
    {
      "cell_type": "markdown",
      "metadata": {
        "id": "YquQ1jfsZ1Wr"
      },
      "source": [
        "Display the name of the most and least fuel efficient vehicles in the dataset"
      ]
    },
    {
      "cell_type": "markdown",
      "metadata": {
        "id": "J86b-Yv3r9rv"
      },
      "source": [
        "Least Fuel Efficient"
      ]
    },
    {
      "cell_type": "code",
      "metadata": {
        "id": "vtLr9X5dZ3HE",
        "outputId": "046eacbe-b50f-407c-9167-93c266c5e207",
        "colab": {
          "base_uri": "https://localhost:8080/",
          "height": 33
        }
      },
      "source": [
        "# Assuming fuel efficiency references mpg\n",
        "data['mpg'].min()"
      ],
      "execution_count": null,
      "outputs": [
        {
          "output_type": "execute_result",
          "data": {
            "text/plain": [
              "9.0"
            ]
          },
          "metadata": {
            "tags": []
          },
          "execution_count": 14
        }
      ]
    },
    {
      "cell_type": "code",
      "metadata": {
        "id": "BUYO8jFjryfL",
        "outputId": "c892fc4b-15f8-457f-b2e7-ac81bf8d64c7",
        "colab": {
          "base_uri": "https://localhost:8080/",
          "height": 50
        }
      },
      "source": [
        "data.loc[data['mpg']==9.0].car_name"
      ],
      "execution_count": null,
      "outputs": [
        {
          "output_type": "execute_result",
          "data": {
            "text/plain": [
              "34    hi 1200d\n",
              "Name: car_name, dtype: object"
            ]
          },
          "metadata": {
            "tags": []
          },
          "execution_count": 17
        }
      ]
    },
    {
      "cell_type": "markdown",
      "metadata": {
        "id": "WjrIiazMsACj"
      },
      "source": [
        "Most Fuel Efficient"
      ]
    },
    {
      "cell_type": "code",
      "metadata": {
        "id": "xytBPrvyru6r",
        "outputId": "59be1ec5-8d61-4855-82a1-e2375cb2a8c0",
        "colab": {
          "base_uri": "https://localhost:8080/",
          "height": 33
        }
      },
      "source": [
        "data['mpg'].max()"
      ],
      "execution_count": null,
      "outputs": [
        {
          "output_type": "execute_result",
          "data": {
            "text/plain": [
              "46.6"
            ]
          },
          "metadata": {
            "tags": []
          },
          "execution_count": 15
        }
      ]
    },
    {
      "cell_type": "code",
      "metadata": {
        "id": "Uxh01QAhr2Nj",
        "outputId": "cfb00d15-20e0-431e-b3ee-8cd474187726",
        "colab": {
          "base_uri": "https://localhost:8080/",
          "height": 50
        }
      },
      "source": [
        "data.loc[data['mpg']==46.6].car_name"
      ],
      "execution_count": null,
      "outputs": [
        {
          "output_type": "execute_result",
          "data": {
            "text/plain": [
              "329    mazda glc\n",
              "Name: car_name, dtype: object"
            ]
          },
          "metadata": {
            "tags": []
          },
          "execution_count": 18
        }
      ]
    },
    {
      "cell_type": "markdown",
      "metadata": {
        "id": "SUj8a8lps0WA"
      },
      "source": [
        "# 2.2 Relationship Plotting"
      ]
    },
    {
      "cell_type": "code",
      "metadata": {
        "id": "dwY56U0GtJKf",
        "outputId": "90739273-6758-4241-de7d-4de6527499e5",
        "colab": {
          "base_uri": "https://localhost:8080/",
          "height": 277
        }
      },
      "source": [
        "# reminder of the names of the columns\n",
        "data.info()"
      ],
      "execution_count": null,
      "outputs": [
        {
          "output_type": "stream",
          "text": [
            "<class 'pandas.core.frame.DataFrame'>\n",
            "Int64Index: 392 entries, 0 to 405\n",
            "Data columns (total 9 columns):\n",
            " #   Column        Non-Null Count  Dtype  \n",
            "---  ------        --------------  -----  \n",
            " 0   mpg           392 non-null    float64\n",
            " 1   cylinders     392 non-null    float64\n",
            " 2   displacement  392 non-null    float64\n",
            " 3   horsepower    392 non-null    float64\n",
            " 4   weight        392 non-null    float64\n",
            " 5   acceleration  392 non-null    float64\n",
            " 6   model         392 non-null    float64\n",
            " 7   origin        392 non-null    float64\n",
            " 8   car_name      392 non-null    object \n",
            "dtypes: float64(8), object(1)\n",
            "memory usage: 30.6+ KB\n"
          ],
          "name": "stdout"
        }
      ]
    },
    {
      "cell_type": "markdown",
      "metadata": {
        "id": "jb0JB7Lfs3sY"
      },
      "source": [
        "Fuel Consumption and Displacement (Engine Size)"
      ]
    },
    {
      "cell_type": "code",
      "metadata": {
        "id": "h_PUd6QotQvO",
        "outputId": "2b2c50c1-b97c-4d4b-cd28-fbdfd3e8017c",
        "colab": {
          "base_uri": "https://localhost:8080/",
          "height": 278
        }
      },
      "source": [
        "import matplotlib.pyplot as plt\n",
        "plt.scatter(data['mpg'], data['displacement'])\n",
        "plt.xlabel('mpg')\n",
        "plt.ylabel('displacement')\n",
        "plt.show()"
      ],
      "execution_count": null,
      "outputs": [
        {
          "output_type": "display_data",
          "data": {
            "image/png": "[encoded data removed]",
            "text/plain": [
              "<Figure size 432x288 with 1 Axes>"
            ]
          },
          "metadata": {
            "tags": [],
            "needs_background": "light"
          }
        }
      ]
    },
    {
      "cell_type": "code",
      "metadata": {
        "id": "Sn1QdvoStdHt",
        "outputId": "57b456be-6525-4271-e9cf-efbe11358af4",
        "colab": {
          "base_uri": "https://localhost:8080/",
          "height": 278
        }
      },
      "source": [
        "plt.scatter(data['mpg'], data['weight'])\n",
        "plt.xlabel('mpg')\n",
        "plt.ylabel('weight')\n",
        "plt.show()"
      ],
      "execution_count": null,
      "outputs": [
        {
          "output_type": "display_data",
          "data": {
            "image/png": "[encoded data removed]",
            "text/plain": [
              "<Figure size 432x288 with 1 Axes>"
            ]
          },
          "metadata": {
            "tags": [],
            "needs_background": "light"
          }
        }
      ]
    },
    {
      "cell_type": "code",
      "metadata": {
        "id": "7FEhSFjKtp4j",
        "outputId": "a63261a2-7bfc-440c-9f1b-10794f18d106",
        "colab": {
          "base_uri": "https://localhost:8080/",
          "height": 278
        }
      },
      "source": [
        "plt.scatter(data['mpg'], data['horsepower'])\n",
        "plt.xlabel('mpg')\n",
        "plt.ylabel('horsepower')\n",
        "plt.show()"
      ],
      "execution_count": null,
      "outputs": [
        {
          "output_type": "display_data",
          "data": {
            "image/png": "[encoded data removed]",
            "text/plain": [
              "<Figure size 432x288 with 1 Axes>"
            ]
          },
          "metadata": {
            "tags": [],
            "needs_background": "light"
          }
        }
      ]
    },
    {
      "cell_type": "markdown",
      "metadata": {
        "id": "GlxMe423tzut"
      },
      "source": [
        "# 2.3 Hypotheses H4 and H5"
      ]
    },
    {
      "cell_type": "code",
      "metadata": {
        "id": "2ogwtO0iuLwZ",
        "outputId": "48229ef3-35c6-4428-b210-f21791c0e45f",
        "colab": {
          "base_uri": "https://localhost:8080/",
          "height": 277
        }
      },
      "source": [
        "data.info()"
      ],
      "execution_count": null,
      "outputs": [
        {
          "output_type": "stream",
          "text": [
            "<class 'pandas.core.frame.DataFrame'>\n",
            "Int64Index: 392 entries, 0 to 405\n",
            "Data columns (total 9 columns):\n",
            " #   Column        Non-Null Count  Dtype  \n",
            "---  ------        --------------  -----  \n",
            " 0   mpg           392 non-null    float64\n",
            " 1   cylinders     392 non-null    float64\n",
            " 2   displacement  392 non-null    float64\n",
            " 3   horsepower    392 non-null    float64\n",
            " 4   weight        392 non-null    float64\n",
            " 5   acceleration  392 non-null    float64\n",
            " 6   model         392 non-null    float64\n",
            " 7   origin        392 non-null    float64\n",
            " 8   car_name      392 non-null    object \n",
            "dtypes: float64(8), object(1)\n",
            "memory usage: 30.6+ KB\n"
          ],
          "name": "stdout"
        }
      ]
    },
    {
      "cell_type": "markdown",
      "metadata": {
        "id": "-NB-cj4Lt-80"
      },
      "source": [
        "# H4: Fuel Efficiency improved over the years represented in this dataset (1970 - 1982)"
      ]
    },
    {
      "cell_type": "code",
      "metadata": {
        "id": "7cGHWoKRujuE",
        "outputId": "8cab3d40-0b12-46cb-9959-88d9230b3a66",
        "colab": {
          "base_uri": "https://localhost:8080/",
          "height": 245
        }
      },
      "source": [
        "data['model'].value_counts()"
      ],
      "execution_count": null,
      "outputs": [
        {
          "output_type": "execute_result",
          "data": {
            "text/plain": [
              "73.0    40\n",
              "78.0    36\n",
              "76.0    34\n",
              "82.0    30\n",
              "75.0    30\n",
              "79.0    29\n",
              "70.0    29\n",
              "81.0    28\n",
              "77.0    28\n",
              "72.0    28\n",
              "80.0    27\n",
              "71.0    27\n",
              "74.0    26\n",
              "Name: model, dtype: int64"
            ]
          },
          "metadata": {
            "tags": []
          },
          "execution_count": 43
        }
      ]
    },
    {
      "cell_type": "code",
      "metadata": {
        "id": "a1VNfOlmtwXM",
        "outputId": "347de962-2e62-4e32-dfb5-1bb584d33e87",
        "colab": {
          "base_uri": "https://localhost:8080/",
          "height": 33
        }
      },
      "source": [
        "# assuming model references the year it came out\n",
        "year_mask = data.loc[(data['model'] >= 70.0) & (data['origin'] <= 82.0)]\n",
        "len(year_mask)"
      ],
      "execution_count": null,
      "outputs": [
        {
          "output_type": "execute_result",
          "data": {
            "text/plain": [
              "392"
            ]
          },
          "metadata": {
            "tags": []
          },
          "execution_count": 45
        }
      ]
    },
    {
      "cell_type": "code",
      "metadata": {
        "id": "jCPnC4PmuzKz",
        "outputId": "ca3d5fbf-b96b-4a7b-970a-0cf17b818a82",
        "colab": {
          "base_uri": "https://localhost:8080/",
          "height": 278
        }
      },
      "source": [
        "# unnecessary, so we will just use data from here on out\n",
        "plt.scatter(data['model'], data['mpg'])\n",
        "plt.xlabel('Year')\n",
        "plt.ylabel('Mpg')\n",
        "plt.show()"
      ],
      "execution_count": null,
      "outputs": [
        {
          "output_type": "display_data",
          "data": {
            "image/png": "[encoded data removed]",
            "text/plain": [
              "<Figure size 432x288 with 1 Axes>"
            ]
          },
          "metadata": {
            "tags": [],
            "needs_background": "light"
          }
        }
      ]
    },
    {
      "cell_type": "code",
      "metadata": {
        "id": "m9AL-5Ygu9oC",
        "outputId": "a04452d4-fd5e-4b28-9bf8-f15bd5b48e75",
        "colab": {
          "base_uri": "https://localhost:8080/",
          "height": 265
        }
      },
      "source": [
        "# Boxplot\n",
        "mpg_1976_to_1970 = data.loc[(data['model'] <= 76.0)].mpg\n",
        "mpg_1977_to_1982 = data.loc[(data['model'] >= 77.0)].mpg\n",
        "\n",
        "plot_data = [mpg_1976_to_1970, mpg_1977_to_1982]\n",
        "plt.boxplot(plot_data)\n",
        "plt.show()"
      ],
      "execution_count": null,
      "outputs": [
        {
          "output_type": "display_data",
          "data": {
            "image/png": "[encoded data removed]",
            "text/plain": [
              "<Figure size 432x288 with 1 Axes>"
            ]
          },
          "metadata": {
            "tags": [],
            "needs_background": "light"
          }
        }
      ]
    },
    {
      "cell_type": "markdown",
      "metadata": {
        "id": "cNq0EvtQwvF6"
      },
      "source": [
        "# H5: Japanese cars (within the same time frame) are more fuel efficient than American or European ones"
      ]
    },
    {
      "cell_type": "code",
      "metadata": {
        "id": "vsVUANOBwYKv",
        "outputId": "cb73000a-9c50-4c6f-f6fd-dee8c889defd",
        "colab": {
          "base_uri": "https://localhost:8080/",
          "height": 277
        }
      },
      "source": [
        "data.info()"
      ],
      "execution_count": null,
      "outputs": [
        {
          "output_type": "stream",
          "text": [
            "<class 'pandas.core.frame.DataFrame'>\n",
            "Int64Index: 392 entries, 0 to 405\n",
            "Data columns (total 9 columns):\n",
            " #   Column        Non-Null Count  Dtype  \n",
            "---  ------        --------------  -----  \n",
            " 0   mpg           392 non-null    float64\n",
            " 1   cylinders     392 non-null    float64\n",
            " 2   displacement  392 non-null    float64\n",
            " 3   horsepower    392 non-null    float64\n",
            " 4   weight        392 non-null    float64\n",
            " 5   acceleration  392 non-null    float64\n",
            " 6   model         392 non-null    float64\n",
            " 7   origin        392 non-null    float64\n",
            " 8   car_name      392 non-null    object \n",
            "dtypes: float64(8), object(1)\n",
            "memory usage: 30.6+ KB\n"
          ],
          "name": "stdout"
        }
      ]
    },
    {
      "cell_type": "code",
      "metadata": {
        "id": "Pu4rOefAw2sp",
        "outputId": "f7e4b707-a964-49a9-bb1c-0a84d359aeb3",
        "colab": {
          "base_uri": "https://localhost:8080/",
          "height": 82
        }
      },
      "source": [
        "data['origin'].value_counts()"
      ],
      "execution_count": null,
      "outputs": [
        {
          "output_type": "execute_result",
          "data": {
            "text/plain": [
              "1.0    245\n",
              "3.0     79\n",
              "2.0     68\n",
              "Name: origin, dtype: int64"
            ]
          },
          "metadata": {
            "tags": []
          },
          "execution_count": 63
        }
      ]
    },
    {
      "cell_type": "code",
      "metadata": {
        "id": "L7I2UsLVw52R"
      },
      "source": [
        "data['Country_code'] = data.origin.replace([1,2,3],['USA','Europe','Japan'])"
      ],
      "execution_count": null,
      "outputs": []
    },
    {
      "cell_type": "code",
      "metadata": {
        "id": "nc85xT3bw--5",
        "outputId": "e11bdd78-bfd8-41b0-fb93-5fbdea98c8e4",
        "colab": {
          "base_uri": "https://localhost:8080/",
          "height": 293
        }
      },
      "source": [
        "data.info()"
      ],
      "execution_count": null,
      "outputs": [
        {
          "output_type": "stream",
          "text": [
            "<class 'pandas.core.frame.DataFrame'>\n",
            "Int64Index: 392 entries, 0 to 405\n",
            "Data columns (total 10 columns):\n",
            " #   Column        Non-Null Count  Dtype  \n",
            "---  ------        --------------  -----  \n",
            " 0   mpg           392 non-null    float64\n",
            " 1   cylinders     392 non-null    float64\n",
            " 2   displacement  392 non-null    float64\n",
            " 3   horsepower    392 non-null    float64\n",
            " 4   weight        392 non-null    float64\n",
            " 5   acceleration  392 non-null    float64\n",
            " 6   model         392 non-null    float64\n",
            " 7   origin        392 non-null    float64\n",
            " 8   car_name      392 non-null    object \n",
            " 9   Country_code  392 non-null    object \n",
            "dtypes: float64(8), object(2)\n",
            "memory usage: 33.7+ KB\n"
          ],
          "name": "stdout"
        }
      ]
    },
    {
      "cell_type": "code",
      "metadata": {
        "id": "GWvHY7gYxVH_",
        "outputId": "a8f6a5a1-ee51-4f2c-a09c-636869fc8e39",
        "colab": {
          "base_uri": "https://localhost:8080/",
          "height": 82
        }
      },
      "source": [
        "data['Country_code'].value_counts()"
      ],
      "execution_count": null,
      "outputs": [
        {
          "output_type": "execute_result",
          "data": {
            "text/plain": [
              "USA       245\n",
              "Japan      79\n",
              "Europe     68\n",
              "Name: Country_code, dtype: int64"
            ]
          },
          "metadata": {
            "tags": []
          },
          "execution_count": 67
        }
      ]
    },
    {
      "cell_type": "code",
      "metadata": {
        "id": "c5GwiqHxw_vA",
        "outputId": "b8efcd7e-4bc8-4343-f4f1-1ca5a81a07d2",
        "colab": {
          "base_uri": "https://localhost:8080/",
          "height": 265
        }
      },
      "source": [
        "usa_mpg = data.loc[(data['Country_code'] == 'USA')].mpg\n",
        "europe_mpg = data.loc[(data['Country_code'] == 'Europe')].mpg\n",
        "japanese_mpg = data.loc[(data['Country_code'] == 'Japan')].mpg\n",
        "\n",
        "plot_2_data = [usa_mpg, europe_mpg, japanese_mpg]\n",
        "plt.boxplot(plot_2_data)\n",
        "plt.show()"
      ],
      "execution_count": null,
      "outputs": [
        {
          "output_type": "display_data",
          "data": {
            "image/png": "[encoded data removed]",
            "text/plain": [
              "<Figure size 432x288 with 1 Axes>"
            ]
          },
          "metadata": {
            "tags": [],
            "needs_background": "light"
          }
        }
      ]
    },
    {
      "cell_type": "markdown",
      "metadata": {
        "id": "7QFj0r1Lxmli"
      },
      "source": [
        "# Conclusions"
      ]
    },
    {
      "cell_type": "markdown",
      "metadata": {
        "id": "xThvHzD-xoVP"
      },
      "source": [
        "<h2> What have you learned from this assignment? </h2>\n",
        "<ul>\n",
        "<li> Pandas indexing based on conditions using the .loc syntax </li>\n",
        "<li> Didn't know how to make multiple boxplots before </li>\n",
        "<li> Enjoyed exercise of thinking about hypotheses and relationshisp beteween variables </li>\n",
        "</ul>"
      ]
    },
    {
      "cell_type": "markdown",
      "metadata": {
        "id": "4LQG9lupxo6m"
      },
      "source": [
        "<h2> Which parts were the most fun, time-consuming, enlightening, tedious? </h2>\n",
        "\n",
        "<p> I really like the scatter plot visualization between variables. I didn't think anything was overly time-consuming or tedious. Gaining comfort with the .loc conditional indexing syntax was enlightening. </p>"
      ]
    },
    {
      "cell_type": "markdown",
      "metadata": {
        "id": "kz2O9v3Oylkk"
      },
      "source": [
        "<h2> What would you do if you had an additional week to work on this? </h2>\n",
        "\n",
        "<ul>\n",
        "<li> Add Linear Regression relationship on the Scatter Plots </li>\n",
        "<li> Use Features to Predict MPG </li>\n",
        "<li> Play with Feature Engineering by using Regex on the Car_Name to get a Brand Feature </li>\n",
        "</ul>"
      ]
    },
    {
      "cell_type": "code",
      "metadata": {
        "id": "jb6jiuDs0YDE"
      },
      "source": [
        ""
      ],
      "execution_count": null,
      "outputs": []
    }
  ]
}